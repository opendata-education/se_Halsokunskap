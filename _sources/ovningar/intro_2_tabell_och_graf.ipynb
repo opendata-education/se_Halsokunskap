{
 "cells": [
  {
   "cell_type": "markdown",
   "id": "371164fe",
   "metadata": {},
   "source": [
    "## Intro - Informationssökning, tabeller och diagram"
   ]
  },
  {
   "cell_type": "markdown",
   "id": "4353f39c",
   "metadata": {},
   "source": [
    "Varje år görs hälsoundersökningar i Finland och världen över. Resultaten från många av undersökningarna är Öppna Data, och vi är fria att använda och analysera dem.\n",
    "\n",
    "Resultaten från många undersökningar i Finland hittas på **THLs** (Terveyden ja Hyvinvoinnin Laitos - Institutet för hälsa och välfärd) hemsida, och i den här övningen ska vi lära oss hur man kan dra nytta av den data som finns samlad där, och åskådliggöra den i diagram.\n",
    "\n",
    "**Vi lär oss**\n",
    "#### Del 1\n",
    "- Söka datasets (denna gång bland THLs öppna data)\n",
    "- Spara csv-filer och läsa in dem i python\n",
    "- Vad är egentligen en csv-fil, och varför fungerar den här inte som den ska?\n",
    "- Snygga till tabeller, så att det viktiga kommer fram\n",
    "\n",
    "#### Del 2\n",
    "- Rita diagram utgående från tabell\n",
    "- Snygga till diagram, så att det viktiga kommer fram\n",
    "\n",
    "#### Del 3\n",
    "- Ta in fler tabeller och jämför grafer\n",
    "\n",
    "#### Del 4\n",
    "- Gör själv\n",
    "\n",
    "#### Uppgifter\n",
    "\n",
    "> Uppgifter är markerade på det här sättet, och utspridda i dokumentet.\n",
    "\n",
    "> Läs och följ instruktionerna noggrannt innan du går vidare i dokumentet.\n",
    "\n",
    ">  Om uppgifterna innehåller frågor kan du skriva dina svar direkt i dokumentet. Om uppgifterna ber dig koda något kan du skapa en kodcell och testa."
   ]
  },
  {
   "cell_type": "markdown",
   "id": "a6f8bad5",
   "metadata": {},
   "source": [
    "## Del 1"
   ]
  },
  {
   "cell_type": "markdown",
   "id": "3179834a",
   "metadata": {},
   "source": [
    "### Söka datasets"
   ]
  },
  {
   "cell_type": "markdown",
   "id": "66efb8db",
   "metadata": {},
   "source": [
    "För att kunna visa statistik måste vi först hitta data. I detta exempel har vi använt [THLs Öppna Databank](https://thl.fi/sv/web/thlfi-sv/statistik-och-data/material-och-tjanster/oppna-data). Där finns hundratals datasets att söka igenom.\n",
    "\n",
    "Detta exempel använder datasets med information om ungdomars hälsovanor när det gäller användning av rusmedel. \n",
    "> Gå till databanken genom att klicka på länken. Klicka på länkar enligt bilderna nedan, så att du öppnar fliken \"Hälsobeteende och psykiska symtom\""
   ]
  },
  {
   "cell_type": "markdown",
   "id": "278b58bc",
   "metadata": {},
   "source": [
    "![](Data/THLmeny.PNG)"
   ]
  },
  {
   "cell_type": "markdown",
   "id": "0fc745ff",
   "metadata": {},
   "source": [
    "<img src=Data/THLmeny.PNG width=600>"
   ]
  },
  {
   "cell_type": "markdown",
   "id": "ee81e5bf",
   "metadata": {},
   "source": [
    "### Ladda ned ett dataset"
   ]
  },
  {
   "cell_type": "markdown",
   "id": "c523505e",
   "metadata": {},
   "source": [
    "Nu ser du en meny med olika tillgängliga datasets. Ta hjälp av bilderna nedan när du gör uppgiften.\n",
    "\n",
    "> Markera valfritt dataset (vi valde tobaksvanor i åk.8-9). Du kan välja fler, men hanteringen blir mer komplicerad då.\n",
    "\n",
    "> Välj ett område för statistiken (Vi valde *Hela landet*)\n",
    "\n",
    ">Välj årtal för statistiken (Vi markerade alla årtal), och tryck på *Visa*.\n",
    "\n",
    "Du får nu se en tabell över det dataset du valt. Alla årtal och orter är kanske inte tillgängliga, och webbsidan meddelar om något saknas.\n",
    "\n",
    "Du har nu möjlighet att \"spara som CSV-fil\" för att ladda ned filen och använda den på din dator. Vi har dock redan sparat filen så att den finns i mappen Data i samma mapp som denna Notebook. "
   ]
  },
  {
   "cell_type": "markdown",
   "id": "b00e6b19",
   "metadata": {},
   "source": [
    "<img src=Data/THLval.PNG width=600>"
   ]
  },
  {
   "cell_type": "markdown",
   "id": "c3ae4892",
   "metadata": {},
   "source": [
    "<img src=Data/THLresult.PNG width=600>"
   ]
  },
  {
   "cell_type": "markdown",
   "id": "bd0ccc08",
   "metadata": {},
   "source": [
    "### Dags att börja koda - Läs in csv-fil i python"
   ]
  },
  {
   "cell_type": "markdown",
   "id": "c9c80eb0",
   "metadata": {},
   "source": [
    "Vi börjar med att hämta in funktionspaket med hjälp av ``import``-kommandot.\n",
    "\n",
    "**pandas** låter oss läsa in datafiler i programmet, och **matplotlib-pyplot** låter oss rita diagram senare.\n",
    "Kör kodcellen nedan så att funktionspaketen finns tillgängliga i dokumentet. (tryck på run-knappen, eller markera cellen och tryck *Ctrl+Enter*)"
   ]
  },
  {
   "cell_type": "code",
   "execution_count": 118,
   "id": "a4a8cea4",
   "metadata": {},
   "outputs": [],
   "source": [
    "import pandas as pd\n",
    "import matplotlib.pyplot as plt"
   ]
  },
  {
   "cell_type": "markdown",
   "id": "72ab3382",
   "metadata": {},
   "source": [
    "Nu är det dags att läsa in csv-filen som vi hittade. Detta görs med funktionen ``pd.read_csv()``. Vi behöver ange sökvägen till filen. Den finns i mappen Data och heter tobak_8_9.csv. Vi sparar den som en variabel, som vi kallar *hogstadiet*.\n",
    "\n",
    "Vi använder sedan kommandot ``.head()``, som visar oss de första raderna av tabellen. På så sätt ser man om allt står rätt till.\n",
    "\n",
    "> Kör kodcellen. Läs den noga, så att du förstår vad den gör och hur den är skriven. I programmering är det noga att varenda tecken blir rätt."
   ]
  },
  {
   "cell_type": "code",
   "execution_count": 119,
   "id": "1eafae92",
   "metadata": {
    "scrolled": true
   },
   "outputs": [
    {
     "data": {
      "text/html": [
       "<div>\n",
       "<style scoped>\n",
       "    .dataframe tbody tr th:only-of-type {\n",
       "        vertical-align: middle;\n",
       "    }\n",
       "\n",
       "    .dataframe tbody tr th {\n",
       "        vertical-align: top;\n",
       "    }\n",
       "\n",
       "    .dataframe thead th {\n",
       "        text-align: right;\n",
       "    }\n",
       "</style>\n",
       "<table border=\"1\" class=\"dataframe\">\n",
       "  <thead>\n",
       "    <tr style=\"text-align: right;\">\n",
       "      <th></th>\n",
       "      <th>Röker dagligen, % av eleverna i årskurs 8 och 9;\"288\";\"Hela landet\";\"358\";\"totalt\";2000;24.5;</th>\n",
       "    </tr>\n",
       "  </thead>\n",
       "  <tbody>\n",
       "    <tr>\n",
       "      <th>0</th>\n",
       "      <td>Röker dagligen, % av eleverna i årskurs 8 och ...</td>\n",
       "    </tr>\n",
       "    <tr>\n",
       "      <th>1</th>\n",
       "      <td>Röker dagligen, % av eleverna i årskurs 8 och ...</td>\n",
       "    </tr>\n",
       "    <tr>\n",
       "      <th>2</th>\n",
       "      <td>Röker dagligen, % av eleverna i årskurs 8 och ...</td>\n",
       "    </tr>\n",
       "    <tr>\n",
       "      <th>3</th>\n",
       "      <td>Röker dagligen, % av eleverna i årskurs 8 och ...</td>\n",
       "    </tr>\n",
       "    <tr>\n",
       "      <th>4</th>\n",
       "      <td>Röker dagligen, % av eleverna i årskurs 8 och ...</td>\n",
       "    </tr>\n",
       "  </tbody>\n",
       "</table>\n",
       "</div>"
      ],
      "text/plain": [
       "  Röker dagligen, % av eleverna i årskurs 8 och 9;\"288\";\"Hela landet\";\"358\";\"totalt\";2000;24.5;\n",
       "0  Röker dagligen, % av eleverna i årskurs 8 och ...                                           \n",
       "1  Röker dagligen, % av eleverna i årskurs 8 och ...                                           \n",
       "2  Röker dagligen, % av eleverna i årskurs 8 och ...                                           \n",
       "3  Röker dagligen, % av eleverna i årskurs 8 och ...                                           \n",
       "4  Röker dagligen, % av eleverna i årskurs 8 och ...                                           "
      ]
     },
     "execution_count": 119,
     "metadata": {},
     "output_type": "execute_result"
    }
   ],
   "source": [
    "hogstadiet = pd.read_csv('Data/tobak_8_9.csv')\n",
    "hogstadiet.head()"
   ]
  },
  {
   "cell_type": "markdown",
   "id": "7cc4154a",
   "metadata": {},
   "source": [
    "Det här var konstigt. Tabellen ser inte alls bra ut. För att förstå vad som gick fel behöver vi tänka på vad en CSV-fil är."
   ]
  },
  {
   "cell_type": "markdown",
   "id": "3c7c3e19",
   "metadata": {},
   "source": [
    "### Vad är egentligen en csv-fil, och varför fungerar den här inte som den ska?"
   ]
  },
  {
   "cell_type": "markdown",
   "id": "40005c25",
   "metadata": {},
   "source": [
    "CSV står för *comma separated values*, och en sådan fil består av tabellvärden åtskilda med kommatecken. I bilden nedan ser vi ett exampel på en CSV-fil och den tabell som den ger. Vi märker att\n",
    "- Första raden innehåller kolumnernas namn\n",
    "- Alla element skiljs åt med kommatecken\n",
    "- Varje rad har lika många element\n",
    "\n",
    "Om något av dessa egenskaper saknas, måste vi lösa det på något annat sätt."
   ]
  },
  {
   "cell_type": "markdown",
   "id": "481702fa",
   "metadata": {},
   "source": [
    "\n",
    "\n",
    "<img src='Data/CSVex.PNG' width=600>\n"
   ]
  },
  {
   "cell_type": "markdown",
   "id": "82fd5314",
   "metadata": {},
   "source": [
    "Om vi öppnar filen *tobak_8_9.csv* och läser den (se bilden nedan) märker vi två problem:\n",
    "- Det finns ingen rad med kolumnnamn. Den första raden innehåller data.\n",
    "- Elementen separeras inte med kommatecken, utan med semikolon. Det här är vanligt när vi hanterar finländska datasets, eftersom vi använder decimalkomma. Systemet är gjort för engelska dokument som använder decimalpunkt. Dock ser vi att filens decimaltal ändå använder punkter, så decimaltecknen är inte ett problem."
   ]
  },
  {
   "cell_type": "markdown",
   "id": "225b9faf",
   "metadata": {},
   "source": [
    "\n",
    "<img src='Data/CSVsemicol.PNG' width=600>"
   ]
  },
  {
   "cell_type": "markdown",
   "id": "a596217d",
   "metadata": {},
   "source": [
    "Vi måste läsa in filen på nytt. Den här gången berättar vi för programmet att använda \";\" som separator, och att titlarna saknas.\n",
    "\n",
    "> Kör koden och läs den noga."
   ]
  },
  {
   "cell_type": "code",
   "execution_count": 120,
   "id": "895221c3",
   "metadata": {
    "scrolled": true
   },
   "outputs": [
    {
     "data": {
      "text/html": [
       "<div>\n",
       "<style scoped>\n",
       "    .dataframe tbody tr th:only-of-type {\n",
       "        vertical-align: middle;\n",
       "    }\n",
       "\n",
       "    .dataframe tbody tr th {\n",
       "        vertical-align: top;\n",
       "    }\n",
       "\n",
       "    .dataframe thead th {\n",
       "        text-align: right;\n",
       "    }\n",
       "</style>\n",
       "<table border=\"1\" class=\"dataframe\">\n",
       "  <thead>\n",
       "    <tr style=\"text-align: right;\">\n",
       "      <th></th>\n",
       "      <th>0</th>\n",
       "      <th>1</th>\n",
       "      <th>2</th>\n",
       "      <th>3</th>\n",
       "      <th>4</th>\n",
       "      <th>5</th>\n",
       "      <th>6</th>\n",
       "      <th>7</th>\n",
       "    </tr>\n",
       "  </thead>\n",
       "  <tbody>\n",
       "    <tr>\n",
       "      <th>0</th>\n",
       "      <td>Röker dagligen, % av eleverna i årskurs 8 och 9</td>\n",
       "      <td>288</td>\n",
       "      <td>Hela landet</td>\n",
       "      <td>358</td>\n",
       "      <td>totalt</td>\n",
       "      <td>2000</td>\n",
       "      <td>24.5</td>\n",
       "      <td>NaN</td>\n",
       "    </tr>\n",
       "    <tr>\n",
       "      <th>1</th>\n",
       "      <td>Röker dagligen, % av eleverna i årskurs 8 och 9</td>\n",
       "      <td>288</td>\n",
       "      <td>Hela landet</td>\n",
       "      <td>358</td>\n",
       "      <td>totalt</td>\n",
       "      <td>2001</td>\n",
       "      <td>22.4</td>\n",
       "      <td>NaN</td>\n",
       "    </tr>\n",
       "    <tr>\n",
       "      <th>2</th>\n",
       "      <td>Röker dagligen, % av eleverna i årskurs 8 och 9</td>\n",
       "      <td>288</td>\n",
       "      <td>Hela landet</td>\n",
       "      <td>358</td>\n",
       "      <td>totalt</td>\n",
       "      <td>2002</td>\n",
       "      <td>22.2</td>\n",
       "      <td>NaN</td>\n",
       "    </tr>\n",
       "    <tr>\n",
       "      <th>3</th>\n",
       "      <td>Röker dagligen, % av eleverna i årskurs 8 och 9</td>\n",
       "      <td>288</td>\n",
       "      <td>Hela landet</td>\n",
       "      <td>358</td>\n",
       "      <td>totalt</td>\n",
       "      <td>2003</td>\n",
       "      <td>19.5</td>\n",
       "      <td>NaN</td>\n",
       "    </tr>\n",
       "    <tr>\n",
       "      <th>4</th>\n",
       "      <td>Röker dagligen, % av eleverna i årskurs 8 och 9</td>\n",
       "      <td>288</td>\n",
       "      <td>Hela landet</td>\n",
       "      <td>358</td>\n",
       "      <td>totalt</td>\n",
       "      <td>2004</td>\n",
       "      <td>18.6</td>\n",
       "      <td>NaN</td>\n",
       "    </tr>\n",
       "  </tbody>\n",
       "</table>\n",
       "</div>"
      ],
      "text/plain": [
       "                                                 0    1            2    3  \\\n",
       "0  Röker dagligen, % av eleverna i årskurs 8 och 9  288  Hela landet  358   \n",
       "1  Röker dagligen, % av eleverna i årskurs 8 och 9  288  Hela landet  358   \n",
       "2  Röker dagligen, % av eleverna i årskurs 8 och 9  288  Hela landet  358   \n",
       "3  Röker dagligen, % av eleverna i årskurs 8 och 9  288  Hela landet  358   \n",
       "4  Röker dagligen, % av eleverna i årskurs 8 och 9  288  Hela landet  358   \n",
       "\n",
       "        4     5     6   7  \n",
       "0  totalt  2000  24.5 NaN  \n",
       "1  totalt  2001  22.4 NaN  \n",
       "2  totalt  2002  22.2 NaN  \n",
       "3  totalt  2003  19.5 NaN  \n",
       "4  totalt  2004  18.6 NaN  "
      ]
     },
     "execution_count": 120,
     "metadata": {},
     "output_type": "execute_result"
    }
   ],
   "source": [
    "hogstadiet = pd.read_csv('Data/tobak_8_9.csv', sep=';', header=None)\n",
    "hogstadiet.head()"
   ]
  },
  {
   "cell_type": "markdown",
   "id": "f01c0041",
   "metadata": {},
   "source": [
    "Sådär. Nu är tabellen finare. Kolumnerna har inga namn, men är numrerade istället. När vi nu får en överblick över tabellen ser vi att där finns mycket överflödig information."
   ]
  },
  {
   "cell_type": "markdown",
   "id": "3ac230b6",
   "metadata": {},
   "source": [
    "### Snygga till tabellen "
   ]
  },
  {
   "cell_type": "markdown",
   "id": "40dcafd3",
   "metadata": {},
   "source": [
    "Tabellen innehåller för många kolumner. Den enda information vi vill ha är årtal (kolumn 5) och %rökare (kolumn 6). Vi kan ta bort de övriga med kommandot ``.drop()`` om vi anger de överflödiga kolumnerna."
   ]
  },
  {
   "cell_type": "code",
   "execution_count": 121,
   "id": "5db0e9f9",
   "metadata": {
    "scrolled": true
   },
   "outputs": [
    {
     "data": {
      "text/html": [
       "<div>\n",
       "<style scoped>\n",
       "    .dataframe tbody tr th:only-of-type {\n",
       "        vertical-align: middle;\n",
       "    }\n",
       "\n",
       "    .dataframe tbody tr th {\n",
       "        vertical-align: top;\n",
       "    }\n",
       "\n",
       "    .dataframe thead th {\n",
       "        text-align: right;\n",
       "    }\n",
       "</style>\n",
       "<table border=\"1\" class=\"dataframe\">\n",
       "  <thead>\n",
       "    <tr style=\"text-align: right;\">\n",
       "      <th></th>\n",
       "      <th>5</th>\n",
       "      <th>6</th>\n",
       "    </tr>\n",
       "  </thead>\n",
       "  <tbody>\n",
       "    <tr>\n",
       "      <th>0</th>\n",
       "      <td>2000</td>\n",
       "      <td>24.5</td>\n",
       "    </tr>\n",
       "    <tr>\n",
       "      <th>1</th>\n",
       "      <td>2001</td>\n",
       "      <td>22.4</td>\n",
       "    </tr>\n",
       "    <tr>\n",
       "      <th>2</th>\n",
       "      <td>2002</td>\n",
       "      <td>22.2</td>\n",
       "    </tr>\n",
       "    <tr>\n",
       "      <th>3</th>\n",
       "      <td>2003</td>\n",
       "      <td>19.5</td>\n",
       "    </tr>\n",
       "    <tr>\n",
       "      <th>4</th>\n",
       "      <td>2004</td>\n",
       "      <td>18.6</td>\n",
       "    </tr>\n",
       "  </tbody>\n",
       "</table>\n",
       "</div>"
      ],
      "text/plain": [
       "      5     6\n",
       "0  2000  24.5\n",
       "1  2001  22.4\n",
       "2  2002  22.2\n",
       "3  2003  19.5\n",
       "4  2004  18.6"
      ]
     },
     "execution_count": 121,
     "metadata": {},
     "output_type": "execute_result"
    }
   ],
   "source": [
    "hogstadiet=hogstadiet.drop(columns=[0, 1, 2, 3, 4, 7])\n",
    "hogstadiet.head()"
   ]
  },
  {
   "cell_type": "markdown",
   "id": "67524bfd",
   "metadata": {},
   "source": [
    "Nu har vi koncentrerat tabellen, men det finns en sak vi ännu borde ändra på. Kolumnerna behöver rubriker, så att vi minns vad siffrorna betyder. Det går att skriva nästan vilka namn som helst, men det är bra att undvika åäö och mellanslag.\n",
    "\n",
    "Vi byter namn på kolumnerna med kommandot ``.columns=[]``."
   ]
  },
  {
   "cell_type": "code",
   "execution_count": 122,
   "id": "d7caee2f",
   "metadata": {},
   "outputs": [
    {
     "data": {
      "text/html": [
       "<div>\n",
       "<style scoped>\n",
       "    .dataframe tbody tr th:only-of-type {\n",
       "        vertical-align: middle;\n",
       "    }\n",
       "\n",
       "    .dataframe tbody tr th {\n",
       "        vertical-align: top;\n",
       "    }\n",
       "\n",
       "    .dataframe thead th {\n",
       "        text-align: right;\n",
       "    }\n",
       "</style>\n",
       "<table border=\"1\" class=\"dataframe\">\n",
       "  <thead>\n",
       "    <tr style=\"text-align: right;\">\n",
       "      <th></th>\n",
       "      <th>Ar</th>\n",
       "      <th>tobak_8_9</th>\n",
       "    </tr>\n",
       "  </thead>\n",
       "  <tbody>\n",
       "    <tr>\n",
       "      <th>0</th>\n",
       "      <td>2000</td>\n",
       "      <td>24.5</td>\n",
       "    </tr>\n",
       "    <tr>\n",
       "      <th>1</th>\n",
       "      <td>2001</td>\n",
       "      <td>22.4</td>\n",
       "    </tr>\n",
       "    <tr>\n",
       "      <th>2</th>\n",
       "      <td>2002</td>\n",
       "      <td>22.2</td>\n",
       "    </tr>\n",
       "    <tr>\n",
       "      <th>3</th>\n",
       "      <td>2003</td>\n",
       "      <td>19.5</td>\n",
       "    </tr>\n",
       "    <tr>\n",
       "      <th>4</th>\n",
       "      <td>2004</td>\n",
       "      <td>18.6</td>\n",
       "    </tr>\n",
       "  </tbody>\n",
       "</table>\n",
       "</div>"
      ],
      "text/plain": [
       "     Ar  tobak_8_9\n",
       "0  2000       24.5\n",
       "1  2001       22.4\n",
       "2  2002       22.2\n",
       "3  2003       19.5\n",
       "4  2004       18.6"
      ]
     },
     "execution_count": 122,
     "metadata": {},
     "output_type": "execute_result"
    }
   ],
   "source": [
    "hogstadiet.columns=['Ar','tobak_8_9']\n",
    "hogstadiet.head()"
   ]
  },
  {
   "cell_type": "markdown",
   "id": "61621cf5",
   "metadata": {},
   "source": [
    "## Del 2"
   ]
  },
  {
   "cell_type": "markdown",
   "id": "1c3da78d",
   "metadata": {},
   "source": [
    "### Använd tabellen för att rita diagram"
   ]
  },
  {
   "cell_type": "markdown",
   "id": "692fadeb",
   "metadata": {},
   "source": [
    "Nu har vi en snygg och enkel tabell, och det gör det lätt att använda den. Nu ska vi testa det andra funktionspaketet som vi importerade i början, **matplotlib.pyplot** (plt). Matplotlib innehåller grafiska verktyg, och pyplot låter oss rita grafer och diagram.\n",
    "\n",
    "Vi ska använda funktionen ``plt.plot()``, som används för att rita grafer. I parentesen ska vi skriva in listorna med x-värden och y-värden för grafen. Vi vill ha årtalen på x-axeln, och vi kan ange kolumnen med årtal som **tobak.Ar** eller **tobak['Ar']**. Vi anger y-värden på samma sätt.\n",
    "\n",
    "> Kör cellen. Blir det en graf?\n",
    "\n",
    "> Vilken information får du av grafen? Hur kunde grafen göras tydligare?"
   ]
  },
  {
   "cell_type": "code",
   "execution_count": 123,
   "id": "58f31b30",
   "metadata": {
    "scrolled": false
   },
   "outputs": [
    {
     "data": {
      "text/plain": [
       "[<matplotlib.lines.Line2D at 0x25ac20dc1c0>]"
      ]
     },
     "execution_count": 123,
     "metadata": {},
     "output_type": "execute_result"
    },
    {
     "data": {
      "image/png": "[encoded data removed]",
      "text/plain": [
       "<Figure size 432x288 with 1 Axes>"
      ]
     },
     "metadata": {
      "needs_background": "light"
     },
     "output_type": "display_data"
    }
   ],
   "source": [
    "plt.plot(hogstadiet.Ar, hogstadiet.tobak_8_9)"
   ]
  },
  {
   "cell_type": "markdown",
   "id": "8d10fd78",
   "metadata": {},
   "source": [
    "Vi har en graf, och den visar att tobakskonsumtionen har gått ned med väldigt mycket på 20 år. Det här är dock ingen graf man skulle inkludera i en presentation. Vi behöver lära oss snygga till den.\n",
    "\n",
    "Grafen har ett par problem:\n",
    "- Den har ingen rubrik, inget som berättar vad den handlar om. Grafen borde kunna avläsas utan någon ytterligare beskrivning.\n",
    "- y-skalan börjar inte från 0, och det gör grafen en aning missvisande."
   ]
  },
  {
   "cell_type": "markdown",
   "id": "86c44a78",
   "metadata": {},
   "source": [
    "### Snygga till diagram, så att det viktiga kommer fram"
   ]
  },
  {
   "cell_type": "markdown",
   "id": "02a48dd6",
   "metadata": {},
   "source": [
    "Vi ska lära oss ett par funktioner som hör ihop med grafritandet. I den förra kodcellen använde vi bara en enda rad med kod för att få fram en graf. Det finns många kommandon vi kan lägga till för att ändra på grafens utseende.\n",
    "\n",
    "\n",
    "``fig=plt.figure(figsize=(15,5))`` ska skrivas först. Det låter oss välja grafens layout. I detta fall väljer vi bara storlek.\n",
    "\n",
    "``plt.show()`` ska skrivas sist. Ser du den konstiga raden [<matplotlib.lines.Line2D at 0x25ac1c25070>] vid den förra grafen? Den får vi bort med detta kommando.\n",
    "\n",
    "Mellan dessa kommandon kan vi fylla i:\n",
    "\n",
    "``plt.title()`` för att få en rubrik\n",
    "\n",
    "``plt.xlabel()``, ``plt.ylabel()`` för att få rubriker vid axlarna\n",
    "\n",
    "``plt.xlim()``, ``plt.ylim()`` för att välja var axlarna börjar och slutar. \n",
    "\n",
    "``plt.grid()`` för att få ett rutnät\n",
    "\n",
    "> Läs kodcellen noga och kör den. Lägg märke till vilken effekt varje kommando har."
   ]
  },
  {
   "cell_type": "code",
   "execution_count": 124,
   "id": "fb7ecbad",
   "metadata": {
    "scrolled": true
   },
   "outputs": [
    {
     "data": {
      "image/png": "[encoded data removed]",
      "text/plain": [
       "<Figure size 1080x360 with 1 Axes>"
      ]
     },
     "metadata": {
      "needs_background": "light"
     },
     "output_type": "display_data"
    }
   ],
   "source": [
    "fig=plt.figure(figsize=(15,5))\n",
    "\n",
    "plt.plot(hogstadiet.Ar, hogstadiet.tobak_8_9)\n",
    "plt.title('Röker dagligen, % av eleverna i årskurs 8-9', fontsize=16)\n",
    "plt.ylim(0,26)\n",
    "plt.grid()\n",
    "\n",
    "plt.show()"
   ]
  },
  {
   "cell_type": "markdown",
   "id": "5f093776",
   "metadata": {},
   "source": [
    "## Del 3"
   ]
  },
  {
   "cell_type": "markdown",
   "id": "1b5aba81",
   "metadata": {},
   "source": [
    "### Kombinera tabeller"
   ]
  },
  {
   "cell_type": "markdown",
   "id": "eecd686c",
   "metadata": {},
   "source": [
    "Vi har gjort en simpel graf, men den skulle ge mer information om det fanns något att jämföra med. THL har också statistik för tobakskonsumtionen bland elever i årskurs 1-2 i gymnasiet. Datan hittas på samma ställe, och CSV-filen finns redan sparad i Data-mappen med namnet **tobak_1_2.csv**. Vi behandlar den på samma sätt som den tidigare filen."
   ]
  },
  {
   "cell_type": "code",
   "execution_count": 125,
   "id": "8af2464e",
   "metadata": {
    "scrolled": false
   },
   "outputs": [
    {
     "data": {
      "text/html": [
       "<div>\n",
       "<style scoped>\n",
       "    .dataframe tbody tr th:only-of-type {\n",
       "        vertical-align: middle;\n",
       "    }\n",
       "\n",
       "    .dataframe tbody tr th {\n",
       "        vertical-align: top;\n",
       "    }\n",
       "\n",
       "    .dataframe thead th {\n",
       "        text-align: right;\n",
       "    }\n",
       "</style>\n",
       "<table border=\"1\" class=\"dataframe\">\n",
       "  <thead>\n",
       "    <tr style=\"text-align: right;\">\n",
       "      <th></th>\n",
       "      <th>0</th>\n",
       "      <th>1</th>\n",
       "      <th>2</th>\n",
       "      <th>3</th>\n",
       "      <th>4</th>\n",
       "      <th>5</th>\n",
       "      <th>6</th>\n",
       "      <th>7</th>\n",
       "    </tr>\n",
       "  </thead>\n",
       "  <tbody>\n",
       "    <tr>\n",
       "      <th>0</th>\n",
       "      <td>Röker dagligen, % av eleverna i årskurs 1 och ...</td>\n",
       "      <td>3921</td>\n",
       "      <td>Hela landet</td>\n",
       "      <td>358</td>\n",
       "      <td>totalt</td>\n",
       "      <td>2000</td>\n",
       "      <td>19,5</td>\n",
       "      <td>NaN</td>\n",
       "    </tr>\n",
       "    <tr>\n",
       "      <th>1</th>\n",
       "      <td>Röker dagligen, % av eleverna i årskurs 1 och ...</td>\n",
       "      <td>3921</td>\n",
       "      <td>Hela landet</td>\n",
       "      <td>358</td>\n",
       "      <td>totalt</td>\n",
       "      <td>2001</td>\n",
       "      <td>17,3</td>\n",
       "      <td>NaN</td>\n",
       "    </tr>\n",
       "    <tr>\n",
       "      <th>2</th>\n",
       "      <td>Röker dagligen, % av eleverna i årskurs 1 och ...</td>\n",
       "      <td>3921</td>\n",
       "      <td>Hela landet</td>\n",
       "      <td>358</td>\n",
       "      <td>totalt</td>\n",
       "      <td>2002</td>\n",
       "      <td>19,6</td>\n",
       "      <td>NaN</td>\n",
       "    </tr>\n",
       "    <tr>\n",
       "      <th>3</th>\n",
       "      <td>Röker dagligen, % av eleverna i årskurs 1 och ...</td>\n",
       "      <td>3921</td>\n",
       "      <td>Hela landet</td>\n",
       "      <td>358</td>\n",
       "      <td>totalt</td>\n",
       "      <td>2003</td>\n",
       "      <td>16,7</td>\n",
       "      <td>NaN</td>\n",
       "    </tr>\n",
       "    <tr>\n",
       "      <th>4</th>\n",
       "      <td>Röker dagligen, % av eleverna i årskurs 1 och ...</td>\n",
       "      <td>3921</td>\n",
       "      <td>Hela landet</td>\n",
       "      <td>358</td>\n",
       "      <td>totalt</td>\n",
       "      <td>2004</td>\n",
       "      <td>15,7</td>\n",
       "      <td>NaN</td>\n",
       "    </tr>\n",
       "  </tbody>\n",
       "</table>\n",
       "</div>"
      ],
      "text/plain": [
       "                                                   0     1            2    3  \\\n",
       "0  Röker dagligen, % av eleverna i årskurs 1 och ...  3921  Hela landet  358   \n",
       "1  Röker dagligen, % av eleverna i årskurs 1 och ...  3921  Hela landet  358   \n",
       "2  Röker dagligen, % av eleverna i årskurs 1 och ...  3921  Hela landet  358   \n",
       "3  Röker dagligen, % av eleverna i årskurs 1 och ...  3921  Hela landet  358   \n",
       "4  Röker dagligen, % av eleverna i årskurs 1 och ...  3921  Hela landet  358   \n",
       "\n",
       "        4     5     6   7  \n",
       "0  totalt  2000  19,5 NaN  \n",
       "1  totalt  2001  17,3 NaN  \n",
       "2  totalt  2002  19,6 NaN  \n",
       "3  totalt  2003  16,7 NaN  \n",
       "4  totalt  2004  15,7 NaN  "
      ]
     },
     "execution_count": 125,
     "metadata": {},
     "output_type": "execute_result"
    }
   ],
   "source": [
    "gymnasiet = pd.read_csv('Data/tobak_1_2.csv', sep=';', header=None)\n",
    "gymnasiet.head()"
   ]
  },
  {
   "cell_type": "markdown",
   "id": "d1db57a1",
   "metadata": {},
   "source": [
    "Tabellen ser nästan likadan ut som den förra, men det finns en subtil skillnad. Decimaltalen använder kommatecken här. Det kommer förr eller senare att ställa till med problem, så vi måste ändra på kommandot som läser in den. Vi lägger till parametern  ``decimal=\",\"``, så tolkas den rätt. Du kan se i nästa tabell att kommatecknen har blivit punkter."
   ]
  },
  {
   "cell_type": "code",
   "execution_count": 126,
   "id": "ed150885",
   "metadata": {},
   "outputs": [
    {
     "data": {
      "text/html": [
       "<div>\n",
       "<style scoped>\n",
       "    .dataframe tbody tr th:only-of-type {\n",
       "        vertical-align: middle;\n",
       "    }\n",
       "\n",
       "    .dataframe tbody tr th {\n",
       "        vertical-align: top;\n",
       "    }\n",
       "\n",
       "    .dataframe thead th {\n",
       "        text-align: right;\n",
       "    }\n",
       "</style>\n",
       "<table border=\"1\" class=\"dataframe\">\n",
       "  <thead>\n",
       "    <tr style=\"text-align: right;\">\n",
       "      <th></th>\n",
       "      <th>0</th>\n",
       "      <th>1</th>\n",
       "      <th>2</th>\n",
       "      <th>3</th>\n",
       "      <th>4</th>\n",
       "      <th>5</th>\n",
       "      <th>6</th>\n",
       "      <th>7</th>\n",
       "    </tr>\n",
       "  </thead>\n",
       "  <tbody>\n",
       "    <tr>\n",
       "      <th>0</th>\n",
       "      <td>Röker dagligen, % av eleverna i årskurs 1 och ...</td>\n",
       "      <td>3921</td>\n",
       "      <td>Hela landet</td>\n",
       "      <td>358</td>\n",
       "      <td>totalt</td>\n",
       "      <td>2000</td>\n",
       "      <td>19.5</td>\n",
       "      <td>NaN</td>\n",
       "    </tr>\n",
       "    <tr>\n",
       "      <th>1</th>\n",
       "      <td>Röker dagligen, % av eleverna i årskurs 1 och ...</td>\n",
       "      <td>3921</td>\n",
       "      <td>Hela landet</td>\n",
       "      <td>358</td>\n",
       "      <td>totalt</td>\n",
       "      <td>2001</td>\n",
       "      <td>17.3</td>\n",
       "      <td>NaN</td>\n",
       "    </tr>\n",
       "    <tr>\n",
       "      <th>2</th>\n",
       "      <td>Röker dagligen, % av eleverna i årskurs 1 och ...</td>\n",
       "      <td>3921</td>\n",
       "      <td>Hela landet</td>\n",
       "      <td>358</td>\n",
       "      <td>totalt</td>\n",
       "      <td>2002</td>\n",
       "      <td>19.6</td>\n",
       "      <td>NaN</td>\n",
       "    </tr>\n",
       "    <tr>\n",
       "      <th>3</th>\n",
       "      <td>Röker dagligen, % av eleverna i årskurs 1 och ...</td>\n",
       "      <td>3921</td>\n",
       "      <td>Hela landet</td>\n",
       "      <td>358</td>\n",
       "      <td>totalt</td>\n",
       "      <td>2003</td>\n",
       "      <td>16.7</td>\n",
       "      <td>NaN</td>\n",
       "    </tr>\n",
       "    <tr>\n",
       "      <th>4</th>\n",
       "      <td>Röker dagligen, % av eleverna i årskurs 1 och ...</td>\n",
       "      <td>3921</td>\n",
       "      <td>Hela landet</td>\n",
       "      <td>358</td>\n",
       "      <td>totalt</td>\n",
       "      <td>2004</td>\n",
       "      <td>15.7</td>\n",
       "      <td>NaN</td>\n",
       "    </tr>\n",
       "  </tbody>\n",
       "</table>\n",
       "</div>"
      ],
      "text/plain": [
       "                                                   0     1            2    3  \\\n",
       "0  Röker dagligen, % av eleverna i årskurs 1 och ...  3921  Hela landet  358   \n",
       "1  Röker dagligen, % av eleverna i årskurs 1 och ...  3921  Hela landet  358   \n",
       "2  Röker dagligen, % av eleverna i årskurs 1 och ...  3921  Hela landet  358   \n",
       "3  Röker dagligen, % av eleverna i årskurs 1 och ...  3921  Hela landet  358   \n",
       "4  Röker dagligen, % av eleverna i årskurs 1 och ...  3921  Hela landet  358   \n",
       "\n",
       "        4     5     6   7  \n",
       "0  totalt  2000  19.5 NaN  \n",
       "1  totalt  2001  17.3 NaN  \n",
       "2  totalt  2002  19.6 NaN  \n",
       "3  totalt  2003  16.7 NaN  \n",
       "4  totalt  2004  15.7 NaN  "
      ]
     },
     "execution_count": 126,
     "metadata": {},
     "output_type": "execute_result"
    }
   ],
   "source": [
    "gymnasiet = pd.read_csv('Data/tobak_1_2.csv', sep=';', decimal=\",\", header=None)\n",
    "gymnasiet.head()"
   ]
  },
  {
   "cell_type": "markdown",
   "id": "8abc5641",
   "metadata": {},
   "source": [
    "Nu kan vi använda likadana kommandon som tidigare för att ta bort de överflödiga kolumnerna och ge kolumnerna nya namn."
   ]
  },
  {
   "cell_type": "code",
   "execution_count": 127,
   "id": "d8c3aeb8",
   "metadata": {
    "scrolled": true
   },
   "outputs": [
    {
     "data": {
      "text/html": [
       "<div>\n",
       "<style scoped>\n",
       "    .dataframe tbody tr th:only-of-type {\n",
       "        vertical-align: middle;\n",
       "    }\n",
       "\n",
       "    .dataframe tbody tr th {\n",
       "        vertical-align: top;\n",
       "    }\n",
       "\n",
       "    .dataframe thead th {\n",
       "        text-align: right;\n",
       "    }\n",
       "</style>\n",
       "<table border=\"1\" class=\"dataframe\">\n",
       "  <thead>\n",
       "    <tr style=\"text-align: right;\">\n",
       "      <th></th>\n",
       "      <th>Ar</th>\n",
       "      <th>tobak_1_2</th>\n",
       "    </tr>\n",
       "  </thead>\n",
       "  <tbody>\n",
       "    <tr>\n",
       "      <th>0</th>\n",
       "      <td>2000</td>\n",
       "      <td>19.5</td>\n",
       "    </tr>\n",
       "    <tr>\n",
       "      <th>1</th>\n",
       "      <td>2001</td>\n",
       "      <td>17.3</td>\n",
       "    </tr>\n",
       "    <tr>\n",
       "      <th>2</th>\n",
       "      <td>2002</td>\n",
       "      <td>19.6</td>\n",
       "    </tr>\n",
       "    <tr>\n",
       "      <th>3</th>\n",
       "      <td>2003</td>\n",
       "      <td>16.7</td>\n",
       "    </tr>\n",
       "    <tr>\n",
       "      <th>4</th>\n",
       "      <td>2004</td>\n",
       "      <td>15.7</td>\n",
       "    </tr>\n",
       "  </tbody>\n",
       "</table>\n",
       "</div>"
      ],
      "text/plain": [
       "     Ar  tobak_1_2\n",
       "0  2000       19.5\n",
       "1  2001       17.3\n",
       "2  2002       19.6\n",
       "3  2003       16.7\n",
       "4  2004       15.7"
      ]
     },
     "execution_count": 127,
     "metadata": {},
     "output_type": "execute_result"
    }
   ],
   "source": [
    "gymnasiet=gymnasiet.drop(columns=[0, 1, 2, 3, 4, 7])\n",
    "gymnasiet.columns=['Ar','tobak_1_2']\n",
    "gymnasiet.head()"
   ]
  },
  {
   "cell_type": "markdown",
   "id": "3b0320a9",
   "metadata": {},
   "source": [
    "Vi ska kombinera de båda tabellerna så att vi får all information på samma ställe. Båda tabellerna har en kolumn **Ar** som innehåller årtal. Vi kan slå ihop tabellerna med den gemensamma kolumnen Ar genom kommandot ``pd.merge( , , on='Ar')``. Vi namnger den nya, kombinerade tabellvariabeln *tobak*.\n",
    "\n",
    "Obs! Högstadietabellen innehåller information från en undersökning 2021. Det året finns inte med i gymnasietabellen, och den informationen försvinner när vi gör så här."
   ]
  },
  {
   "cell_type": "code",
   "execution_count": 128,
   "id": "2b8e8371",
   "metadata": {
    "scrolled": true
   },
   "outputs": [
    {
     "data": {
      "text/html": [
       "<div>\n",
       "<style scoped>\n",
       "    .dataframe tbody tr th:only-of-type {\n",
       "        vertical-align: middle;\n",
       "    }\n",
       "\n",
       "    .dataframe tbody tr th {\n",
       "        vertical-align: top;\n",
       "    }\n",
       "\n",
       "    .dataframe thead th {\n",
       "        text-align: right;\n",
       "    }\n",
       "</style>\n",
       "<table border=\"1\" class=\"dataframe\">\n",
       "  <thead>\n",
       "    <tr style=\"text-align: right;\">\n",
       "      <th></th>\n",
       "      <th>Ar</th>\n",
       "      <th>tobak_8_9</th>\n",
       "      <th>tobak_1_2</th>\n",
       "    </tr>\n",
       "  </thead>\n",
       "  <tbody>\n",
       "    <tr>\n",
       "      <th>0</th>\n",
       "      <td>2000</td>\n",
       "      <td>24.5</td>\n",
       "      <td>19.5</td>\n",
       "    </tr>\n",
       "    <tr>\n",
       "      <th>1</th>\n",
       "      <td>2001</td>\n",
       "      <td>22.4</td>\n",
       "      <td>17.3</td>\n",
       "    </tr>\n",
       "    <tr>\n",
       "      <th>2</th>\n",
       "      <td>2002</td>\n",
       "      <td>22.2</td>\n",
       "      <td>19.6</td>\n",
       "    </tr>\n",
       "    <tr>\n",
       "      <th>3</th>\n",
       "      <td>2003</td>\n",
       "      <td>19.5</td>\n",
       "      <td>16.7</td>\n",
       "    </tr>\n",
       "    <tr>\n",
       "      <th>4</th>\n",
       "      <td>2004</td>\n",
       "      <td>18.6</td>\n",
       "      <td>15.7</td>\n",
       "    </tr>\n",
       "  </tbody>\n",
       "</table>\n",
       "</div>"
      ],
      "text/plain": [
       "     Ar  tobak_8_9  tobak_1_2\n",
       "0  2000       24.5       19.5\n",
       "1  2001       22.4       17.3\n",
       "2  2002       22.2       19.6\n",
       "3  2003       19.5       16.7\n",
       "4  2004       18.6       15.7"
      ]
     },
     "execution_count": 128,
     "metadata": {},
     "output_type": "execute_result"
    }
   ],
   "source": [
    "tobak = pd.merge(hogstadiet, gymnasiet, on=\"Ar\", how='outer') \n",
    "tobak.head()"
   ]
  },
  {
   "cell_type": "markdown",
   "id": "97bba9d0",
   "metadata": {},
   "source": [
    "### Jämförelsegraf"
   ]
  },
  {
   "cell_type": "markdown",
   "id": "35046fee",
   "metadata": {},
   "source": [
    "Vi vill ha en graf som inkluderar båda dessa datasets. Det är enkelt att rita fler grafer i samma diagram. Vi skriver bara flera ``plt.plot()``-kommandon. Vi måste ange både x- och y-lista i båda. "
   ]
  },
  {
   "cell_type": "code",
   "execution_count": 129,
   "id": "9c99e18c",
   "metadata": {},
   "outputs": [
    {
     "data": {
      "text/plain": [
       "[<matplotlib.lines.Line2D at 0x25ac27eb580>]"
      ]
     },
     "execution_count": 129,
     "metadata": {},
     "output_type": "execute_result"
    },
    {
     "data": {
      "image/png": "[encoded data removed]",
      "text/plain": [
       "<Figure size 432x288 with 1 Axes>"
      ]
     },
     "metadata": {
      "needs_background": "light"
     },
     "output_type": "display_data"
    }
   ],
   "source": [
    "plt.plot(tobak.Ar, tobak.tobak_8_9)\n",
    "plt.plot(tobak.Ar, tobak.tobak_1_2)"
   ]
  },
  {
   "cell_type": "markdown",
   "id": "616dfccc",
   "metadata": {},
   "source": [
    "Den första grafskissen lyckades, och nu kan vi snygga till den. Vi använder samma kommandon som tidigare, men lägger till ett par nya funktioner.\n",
    "\n",
    "``label=`` används i plot-kommandot för att åtskilja de båda graferna.\n",
    "\n",
    "``plt.legend()`` ger en förklaringsruta som visar vad de olika graferna föreställer. Förklaringen tas från de *labels* som angetts."
   ]
  },
  {
   "cell_type": "code",
   "execution_count": 133,
   "id": "584b6351",
   "metadata": {
    "scrolled": false
   },
   "outputs": [
    {
     "data": {
      "image/png": "[encoded data removed]",
      "text/plain": [
       "<Figure size 1152x360 with 1 Axes>"
      ]
     },
     "metadata": {
      "needs_background": "light"
     },
     "output_type": "display_data"
    }
   ],
   "source": [
    "fig=plt.figure(figsize=(16,5))\n",
    "\n",
    "plt.plot(tobak.Ar, tobak.tobak_8_9, label='Högstadiet, 8-9')\n",
    "plt.plot(tobak.Ar, tobak.tobak_1_2, label= 'Gymnasiet, 1-2')\n",
    "\n",
    "plt.title('Röker dagligen, % av eleverna i Finlands skolor', fontsize=16)\n",
    "plt.ylim(0,26)\n",
    "plt.xlim(1999,2022)\n",
    "plt.grid()\n",
    "plt.legend(fontsize=14)\n",
    "\n",
    "plt.show()"
   ]
  },
  {
   "cell_type": "markdown",
   "id": "1ca7f0ac",
   "metadata": {},
   "source": [
    "Vi ser från grafen att rökning i både högstadiet och gymnasiet följer samma trender. Det är lite förvånande. Man kunde kanske tänka att trenderna i gymnasiets statistik borde ligga ett par år efter högstadiets. Detta tyder på att trenderna styrs av yttre faktorer. Man kunde kanske hitta direkta samband om man undersöker utvecklingen av tobakspriser eller tobakens status inom populärkulturen."
   ]
  },
  {
   "cell_type": "markdown",
   "id": "4159cdd2",
   "metadata": {},
   "source": [
    "### Gör själv"
   ]
  },
  {
   "cell_type": "markdown",
   "id": "239c8530",
   "metadata": {},
   "source": [
    "Du kan fortsätta på samma tabell och graf. I mappen finns också THLs statistik om tobaksvanor hos elever i yrkesskolor (Data/tobak_ys.csv).\n",
    "\n",
    "> Här nedan kan du läsa in den filen, snygga till den och lägga till den i tabellen och grafen.\n",
    "\n",
    "Om du tror att du kan hantera en svårare uppgift kan du istället söka upp egna dataset från THL eller en annan relevant hemsida, och försöka sammanställa eller visualisera dem. "
   ]
  },
  {
   "cell_type": "code",
   "execution_count": 131,
   "id": "93a272c7",
   "metadata": {},
   "outputs": [
    {
     "data": {
      "text/html": [
       "<div>\n",
       "<style scoped>\n",
       "    .dataframe tbody tr th:only-of-type {\n",
       "        vertical-align: middle;\n",
       "    }\n",
       "\n",
       "    .dataframe tbody tr th {\n",
       "        vertical-align: top;\n",
       "    }\n",
       "\n",
       "    .dataframe thead th {\n",
       "        text-align: right;\n",
       "    }\n",
       "</style>\n",
       "<table border=\"1\" class=\"dataframe\">\n",
       "  <thead>\n",
       "    <tr style=\"text-align: right;\">\n",
       "      <th></th>\n",
       "      <th>Ar</th>\n",
       "      <th>tobak_ys</th>\n",
       "    </tr>\n",
       "  </thead>\n",
       "  <tbody>\n",
       "    <tr>\n",
       "      <th>0</th>\n",
       "      <td>2008</td>\n",
       "      <td>40.4</td>\n",
       "    </tr>\n",
       "    <tr>\n",
       "      <th>1</th>\n",
       "      <td>2009</td>\n",
       "      <td>38.2</td>\n",
       "    </tr>\n",
       "    <tr>\n",
       "      <th>2</th>\n",
       "      <td>2010</td>\n",
       "      <td>40.2</td>\n",
       "    </tr>\n",
       "    <tr>\n",
       "      <th>3</th>\n",
       "      <td>2011</td>\n",
       "      <td>38.7</td>\n",
       "    </tr>\n",
       "    <tr>\n",
       "      <th>4</th>\n",
       "      <td>2013</td>\n",
       "      <td>35.9</td>\n",
       "    </tr>\n",
       "  </tbody>\n",
       "</table>\n",
       "</div>"
      ],
      "text/plain": [
       "     Ar  tobak_ys\n",
       "0  2008      40.4\n",
       "1  2009      38.2\n",
       "2  2010      40.2\n",
       "3  2011      38.7\n",
       "4  2013      35.9"
      ]
     },
     "execution_count": 131,
     "metadata": {},
     "output_type": "execute_result"
    }
   ],
   "source": [
    "yrkes = pd.read_csv('Data/tobak_ys.csv', sep=';', decimal=',', header=None)\n",
    "yrkes=yrkes.drop(columns=[0, 1, 2, 3, 4, 7])\n",
    "yrkes.columns=['Ar','tobak_ys']\n",
    "yrkes.head()"
   ]
  },
  {
   "cell_type": "code",
   "execution_count": 132,
   "id": "30531563",
   "metadata": {
    "scrolled": false
   },
   "outputs": [
    {
     "data": {
      "text/html": [
       "<div>\n",
       "<style scoped>\n",
       "    .dataframe tbody tr th:only-of-type {\n",
       "        vertical-align: middle;\n",
       "    }\n",
       "\n",
       "    .dataframe tbody tr th {\n",
       "        vertical-align: top;\n",
       "    }\n",
       "\n",
       "    .dataframe thead th {\n",
       "        text-align: right;\n",
       "    }\n",
       "</style>\n",
       "<table border=\"1\" class=\"dataframe\">\n",
       "  <thead>\n",
       "    <tr style=\"text-align: right;\">\n",
       "      <th></th>\n",
       "      <th>Ar</th>\n",
       "      <th>tobak_8_9</th>\n",
       "      <th>tobak_1_2</th>\n",
       "      <th>tobak_ys</th>\n",
       "    </tr>\n",
       "  </thead>\n",
       "  <tbody>\n",
       "    <tr>\n",
       "      <th>0</th>\n",
       "      <td>2000</td>\n",
       "      <td>24.5</td>\n",
       "      <td>19.5</td>\n",
       "      <td>NaN</td>\n",
       "    </tr>\n",
       "    <tr>\n",
       "      <th>1</th>\n",
       "      <td>2001</td>\n",
       "      <td>22.4</td>\n",
       "      <td>17.3</td>\n",
       "      <td>NaN</td>\n",
       "    </tr>\n",
       "    <tr>\n",
       "      <th>2</th>\n",
       "      <td>2002</td>\n",
       "      <td>22.2</td>\n",
       "      <td>19.6</td>\n",
       "      <td>NaN</td>\n",
       "    </tr>\n",
       "    <tr>\n",
       "      <th>3</th>\n",
       "      <td>2003</td>\n",
       "      <td>19.5</td>\n",
       "      <td>16.7</td>\n",
       "      <td>NaN</td>\n",
       "    </tr>\n",
       "    <tr>\n",
       "      <th>4</th>\n",
       "      <td>2004</td>\n",
       "      <td>18.6</td>\n",
       "      <td>15.7</td>\n",
       "      <td>NaN</td>\n",
       "    </tr>\n",
       "  </tbody>\n",
       "</table>\n",
       "</div>"
      ],
      "text/plain": [
       "     Ar  tobak_8_9  tobak_1_2  tobak_ys\n",
       "0  2000       24.5       19.5       NaN\n",
       "1  2001       22.4       17.3       NaN\n",
       "2  2002       22.2       19.6       NaN\n",
       "3  2003       19.5       16.7       NaN\n",
       "4  2004       18.6       15.7       NaN"
      ]
     },
     "execution_count": 132,
     "metadata": {},
     "output_type": "execute_result"
    }
   ],
   "source": [
    "# Vi skapar en ny variabel tobak, som skriver över den förra, genom att kombinera den gamla tabellen tobak och den nya tabellen över yrkesskolor.\n",
    "tobak = pd.merge(tobak, yrkes, on=\"Ar\", how='outer') \n",
    "tobakk.head()"
   ]
  },
  {
   "cell_type": "code",
   "execution_count": 136,
   "id": "1157c6cc",
   "metadata": {},
   "outputs": [
    {
     "data": {
      "image/png": "[encoded data removed]",
      "text/plain": [
       "<Figure size 1152x504 with 1 Axes>"
      ]
     },
     "metadata": {
      "needs_background": "light"
     },
     "output_type": "display_data"
    }
   ],
   "source": [
    "fig=plt.figure(figsize=(16,7))\n",
    "\n",
    "plt.plot(tobakk.Ar, tobakk.tobak_8_9, label='Högstadium, 8-9')\n",
    "plt.plot(tobakk.Ar, tobakk.tobak_1_2, label= 'Gymnasier, 1-2')\n",
    "plt.plot(tobakk.Ar, tobakk.tobak_ys, label= 'Yrkesskolor 1-2')\n",
    "\n",
    "plt.title('Röker dagligen, % av eleverna i Finlands skolor', fontsize=16)\n",
    "plt.ylim(0,45)\n",
    "plt.xlim(1999,2022)\n",
    "plt.grid()\n",
    "plt.legend(fontsize=14)\n",
    "\n",
    "plt.show()"
   ]
  }
 ],
 "metadata": {
  "kernelspec": {
   "display_name": "Python 3",
   "language": "python",
   "name": "python3"
  },
  "language_info": {
   "codemirror_mode": {
    "name": "ipython",
    "version": 3
   },
   "file_extension": ".py",
   "mimetype": "text/x-python",
   "name": "python",
   "nbconvert_exporter": "python",
   "pygments_lexer": "ipython3",
   "version": "3.8.10"
  }
 },
 "nbformat": 4,
 "nbformat_minor": 5
}
